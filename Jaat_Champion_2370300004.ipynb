{
  "nbformat": 4,
  "nbformat_minor": 0,
  "metadata": {
    "colab": {
      "provenance": []
    },
    "kernelspec": {
      "name": "python3",
      "display_name": "Python 3"
    },
    "language_info": {
      "name": "python"
    }
  },
  "cells": [
    {
      "cell_type": "code",
      "execution_count": 2,
      "metadata": {
        "id": "BwXJSmIHrOgM"
      },
      "outputs": [],
      "source": [
        "import tensorflow as tf\n",
        "from tensorflow import keras\n",
        "from tensorflow.keras import layers\n",
        "from sklearn.datasets import make_circles\n",
        "import matplotlib.pyplot as plt\n",
        "import numpy as np\n",
        "from tensorflow.keras.models import Sequential\n",
        "from tensorflow.keras.layers import Conv2D, MaxPooling2D, Dense, Flatten"
      ]
    },
    {
      "cell_type": "code",
      "source": [
        "import kagglehub\n",
        "\n",
        "# Download latest version\n",
        "path = kagglehub.dataset_download(\"berlinsweird/devanagari\")\n",
        "\n",
        "print(\"Path to dataset files:\", path)"
      ],
      "metadata": {
        "colab": {
          "base_uri": "https://localhost:8080/"
        },
        "id": "YUmfkqL1Hqlo",
        "outputId": "f7e10ee5-e619-43a9-8f76-69431cf26621"
      },
      "execution_count": 4,
      "outputs": [
        {
          "output_type": "stream",
          "name": "stdout",
          "text": [
            "Downloading from https://www.kaggle.com/api/v1/datasets/download/berlinsweird/devanagari?dataset_version_number=3...\n"
          ]
        },
        {
          "output_type": "stream",
          "name": "stderr",
          "text": [
            "100%|██████████| 101M/101M [00:00<00:00, 189MB/s] "
          ]
        },
        {
          "output_type": "stream",
          "name": "stdout",
          "text": [
            "Extracting files...\n"
          ]
        },
        {
          "output_type": "stream",
          "name": "stderr",
          "text": [
            "\n"
          ]
        },
        {
          "output_type": "stream",
          "name": "stdout",
          "text": [
            "Path to dataset files: /root/.cache/kagglehub/datasets/berlinsweird/devanagari/versions/3\n"
          ]
        }
      ]
    },
    {
      "cell_type": "code",
      "source": [
        "import os\n",
        "\n",
        "# List files in the directory\n",
        "print(os.listdir('/root/.cache/kagglehub/datasets/berlinsweird/devanagari/versions/3'))"
      ],
      "metadata": {
        "colab": {
          "base_uri": "https://localhost:8080/"
        },
        "id": "MjdNu7fcH0fJ",
        "outputId": "3746e369-2a5a-48e6-cdd2-272d4a6d1555"
      },
      "execution_count": 6,
      "outputs": [
        {
          "output_type": "stream",
          "name": "stdout",
          "text": [
            "['digits', 'Top-10', 'Hindi']\n"
          ]
        }
      ]
    },
    {
      "cell_type": "code",
      "source": [
        "import os\n",
        "print(os.listdir('/root/.cache/kagglehub/datasets/berlinsweird/devanagari/versions/3/Hindi/'))"
      ],
      "metadata": {
        "colab": {
          "base_uri": "https://localhost:8080/"
        },
        "id": "kScxCNNwIDhd",
        "outputId": "b3d8c766-eabc-498b-8690-4747720e2a5b"
      },
      "execution_count": 8,
      "outputs": [
        {
          "output_type": "stream",
          "name": "stdout",
          "text": [
            "['Test', 'Train']\n"
          ]
        }
      ]
    },
    {
      "cell_type": "code",
      "source": [
        "import os\n",
        "print(os.listdir('/root/.cache/kagglehub/datasets/berlinsweird/devanagari/versions/3/Hindi/Train/'))\n",
        "print(os.listdir('/root/.cache/kagglehub/datasets/berlinsweird/devanagari/versions/3/Hindi/Test/'))"
      ],
      "metadata": {
        "colab": {
          "base_uri": "https://localhost:8080/"
        },
        "id": "jQhlBQIqII7Z",
        "outputId": "fb62ae73-d433-4abe-c623-33779629d92b"
      },
      "execution_count": 10,
      "outputs": [
        {
          "output_type": "stream",
          "name": "stdout",
          "text": [
            "['character_26_yaw', 'digit_5', 'character_27_ra', 'character_5_kna', 'character_7_chha', 'character_2_kha', 'character_10_yna', 'character_15_adna', 'character_9_jha', 'character_3_ga', 'character_33_ha', 'character_8_ja', 'digit_1', 'character_29_waw', 'digit_3', 'character_16_tabala', 'character_32_patalosaw', 'character_34_chhya', 'digit_9', 'character_23_ba', 'character_6_cha', 'character_11_taamatar', 'character_13_daa', 'digit_2', 'character_14_dhaa', 'character_30_motosaw', 'character_19_dha', 'digit_8', 'character_12_thaa', 'character_36_gya', 'digit_4', 'character_28_la', 'character_31_petchiryakha', 'digit_6', 'character_25_ma', 'character_22_pha', 'character_35_tra', 'character_17_tha', 'character_24_bha', 'digit_0', 'character_20_na', 'character_18_da', 'digit_7', 'character_4_gha', 'character_21_pa', 'character_1_ka']\n",
            "['character_26_yaw', 'digit_5', 'character_27_ra', 'character_5_kna', 'character_7_chha', 'character_2_kha', 'character_10_yna', 'character_15_adna', 'character_9_jha', 'character_3_ga', 'character_33_ha', 'character_8_ja', 'digit_1', 'character_29_waw', 'digit_3', 'character_16_tabala', 'character_32_patalosaw', 'character_34_chhya', 'digit_9', 'character_23_ba', 'character_6_cha', 'character_11_taamatar', 'character_13_daa', 'digit_2', 'character_14_dhaa', 'character_30_motosaw', 'character_19_dha', 'digit_8', 'character_12_thaa', 'character_36_gya', 'digit_4', 'character_28_la', 'character_31_petchiryakha', 'digit_6', 'character_25_ma', 'character_22_pha', 'character_35_tra', 'character_17_tha', 'character_24_bha', 'digit_0', 'character_20_na', 'character_18_da', 'digit_7', 'character_4_gha', 'character_21_pa', 'character_1_ka']\n"
          ]
        }
      ]
    },
    {
      "cell_type": "code",
      "source": [
        "# prompt: (x_train,y_train), (x_test,y_test) =   inport this data in this format\n",
        "\n",
        "train_dir = '/root/.cache/kagglehub/datasets/berlinsweird/devanagari/versions/3/Hindi/Train/'\n",
        "test_dir = '/root/.cache/kagglehub/datasets/berlinsweird/devanagari/versions/3/Hindi/Test/'\n",
        "\n",
        "x_train = os.listdir(train_dir)\n",
        "y_train = os.listdir(train_dir)\n",
        "\n",
        "print(os.listdir(train_dir))\n",
        "print(os.listdir(test_dir))"
      ],
      "metadata": {
        "colab": {
          "base_uri": "https://localhost:8080/"
        },
        "id": "BC1Gj3MsIjg-",
        "outputId": "2d411dc9-b36c-45dd-d3ef-9c10ccbcbf2f"
      },
      "execution_count": 12,
      "outputs": [
        {
          "output_type": "stream",
          "name": "stdout",
          "text": [
            "['character_26_yaw', 'digit_5', 'character_27_ra', 'character_5_kna', 'character_7_chha', 'character_2_kha', 'character_10_yna', 'character_15_adna', 'character_9_jha', 'character_3_ga', 'character_33_ha', 'character_8_ja', 'digit_1', 'character_29_waw', 'digit_3', 'character_16_tabala', 'character_32_patalosaw', 'character_34_chhya', 'digit_9', 'character_23_ba', 'character_6_cha', 'character_11_taamatar', 'character_13_daa', 'digit_2', 'character_14_dhaa', 'character_30_motosaw', 'character_19_dha', 'digit_8', 'character_12_thaa', 'character_36_gya', 'digit_4', 'character_28_la', 'character_31_petchiryakha', 'digit_6', 'character_25_ma', 'character_22_pha', 'character_35_tra', 'character_17_tha', 'character_24_bha', 'digit_0', 'character_20_na', 'character_18_da', 'digit_7', 'character_4_gha', 'character_21_pa', 'character_1_ka']\n",
            "['character_26_yaw', 'digit_5', 'character_27_ra', 'character_5_kna', 'character_7_chha', 'character_2_kha', 'character_10_yna', 'character_15_adna', 'character_9_jha', 'character_3_ga', 'character_33_ha', 'character_8_ja', 'digit_1', 'character_29_waw', 'digit_3', 'character_16_tabala', 'character_32_patalosaw', 'character_34_chhya', 'digit_9', 'character_23_ba', 'character_6_cha', 'character_11_taamatar', 'character_13_daa', 'digit_2', 'character_14_dhaa', 'character_30_motosaw', 'character_19_dha', 'digit_8', 'character_12_thaa', 'character_36_gya', 'digit_4', 'character_28_la', 'character_31_petchiryakha', 'digit_6', 'character_25_ma', 'character_22_pha', 'character_35_tra', 'character_17_tha', 'character_24_bha', 'digit_0', 'character_20_na', 'character_18_da', 'digit_7', 'character_4_gha', 'character_21_pa', 'character_1_ka']\n"
          ]
        }
      ]
    },
    {
      "cell_type": "code",
      "source": [
        "\n",
        "img_size = (32, 32)         # Image size\n",
        "\n",
        "# Load training and test data with augmentation\n",
        "from tensorflow.keras.preprocessing.image import ImageDataGenerator\n",
        "\n",
        "train_datagen = ImageDataGenerator(\n",
        "    rescale=1./255,\n",
        "    rotation_range=10,\n",
        "    zoom_range=0.1,\n",
        "    width_shift_range=0.1,\n",
        "    height_shift_range=0.1\n",
        ")\n",
        "\n",
        "test_datagen = ImageDataGenerator(rescale=1./255)\n",
        "\n",
        "train_generator = train_datagen.flow_from_directory(\n",
        "    train_dir,\n",
        "    target_size=img_size,\n",
        "    color_mode='grayscale',\n",
        "    batch_size=32,\n",
        "    class_mode='categorical'\n",
        ")\n",
        "\n",
        "test_generator = test_datagen.flow_from_directory(\n",
        "    test_dir,\n",
        "    target_size=img_size,\n",
        "    color_mode='grayscale',\n",
        "    batch_size=32,\n",
        "    class_mode='categorical'\n",
        ")"
      ],
      "metadata": {
        "colab": {
          "base_uri": "https://localhost:8080/"
        },
        "id": "8P4tkt-QIzlB",
        "outputId": "a31381a0-b3d7-4cfc-cbae-143518cdfbbe"
      },
      "execution_count": 14,
      "outputs": [
        {
          "output_type": "stream",
          "name": "stdout",
          "text": [
            "Found 78200 images belonging to 46 classes.\n",
            "Found 13800 images belonging to 46 classes.\n"
          ]
        }
      ]
    },
    {
      "cell_type": "code",
      "source": [
        "from tensorflow.keras import models, layers, Input\n",
        "\n",
        "model = models.Sequential([\n",
        "    Input(shape=(32, 32, 1)),\n",
        "    layers.Conv2D(32, (3,3), activation='relu'),\n",
        "    layers.MaxPooling2D(2, 2),\n",
        "\n",
        "    layers.Conv2D(64, (3,3), activation='relu'),\n",
        "    layers.MaxPooling2D(2,2),\n",
        "\n",
        "    layers.Conv2D(128, (3,3), activation='relu'),\n",
        "    layers.MaxPooling2D(2,2),\n",
        "\n",
        "    layers.Flatten(),\n",
        "    layers.Dense(128, activation='relu'),\n",
        "    layers.Dropout(0.5),\n",
        "    layers.Dense(train_generator.num_classes, activation='softmax')\n",
        "])"
      ],
      "metadata": {
        "id": "4gIeLUSVI8Er"
      },
      "execution_count": 17,
      "outputs": []
    },
    {
      "cell_type": "code",
      "source": [
        "model.compile(optimizer='adam',\n",
        "              loss='categorical_crossentropy',\n",
        "              metrics=['accuracy'])\n"
      ],
      "metadata": {
        "id": "5C-IjKD4JK_j"
      },
      "execution_count": 18,
      "outputs": []
    },
    {
      "cell_type": "code",
      "source": [
        "history = model.fit(\n",
        "    train_generator,\n",
        "    epochs=4,                           # Epochs only 4 ----  (iteration)\n",
        "    validation_data=test_generator\n",
        ")\n"
      ],
      "metadata": {
        "colab": {
          "base_uri": "https://localhost:8080/"
        },
        "id": "ihKnHkAqJPKF",
        "outputId": "dda710c0-75a2-488f-b1a9-1f7087078109"
      },
      "execution_count": 19,
      "outputs": [
        {
          "output_type": "stream",
          "name": "stdout",
          "text": [
            "Epoch 1/4\n"
          ]
        },
        {
          "output_type": "stream",
          "name": "stderr",
          "text": [
            "/usr/local/lib/python3.11/dist-packages/keras/src/trainers/data_adapters/py_dataset_adapter.py:121: UserWarning: Your `PyDataset` class should call `super().__init__(**kwargs)` in its constructor. `**kwargs` can include `workers`, `use_multiprocessing`, `max_queue_size`. Do not pass these arguments to `fit()`, as they will be ignored.\n",
            "  self._warn_if_super_not_called()\n"
          ]
        },
        {
          "output_type": "stream",
          "name": "stdout",
          "text": [
            "\u001b[1m2444/2444\u001b[0m \u001b[32m━━━━━━━━━━━━━━━━━━━━\u001b[0m\u001b[37m\u001b[0m \u001b[1m0s\u001b[0m 68ms/step - accuracy: 0.4050 - loss: 2.1802"
          ]
        },
        {
          "output_type": "stream",
          "name": "stderr",
          "text": [
            "/usr/local/lib/python3.11/dist-packages/keras/src/trainers/data_adapters/py_dataset_adapter.py:121: UserWarning: Your `PyDataset` class should call `super().__init__(**kwargs)` in its constructor. `**kwargs` can include `workers`, `use_multiprocessing`, `max_queue_size`. Do not pass these arguments to `fit()`, as they will be ignored.\n",
            "  self._warn_if_super_not_called()\n"
          ]
        },
        {
          "output_type": "stream",
          "name": "stdout",
          "text": [
            "\b\b\b\b\b\b\b\b\b\b\b\b\b\b\b\b\b\b\b\b\b\b\b\b\b\b\b\b\b\b\b\b\b\b\b\b\b\b\b\b\b\b\b\b\b\b\b\b\b\b\b\b\b\b\b\b\b\b\b\b\b\b\b\b\b\b\b\b\b\b\b\b\b\b\b\b\b\r\u001b[1m2444/2444\u001b[0m \u001b[32m━━━━━━━━━━━━━━━━━━━━\u001b[0m\u001b[37m\u001b[0m \u001b[1m179s\u001b[0m 72ms/step - accuracy: 0.4051 - loss: 2.1799 - val_accuracy: 0.9204 - val_loss: 0.2544\n",
            "Epoch 2/4\n",
            "\u001b[1m2444/2444\u001b[0m \u001b[32m━━━━━━━━━━━━━━━━━━━━\u001b[0m\u001b[37m\u001b[0m \u001b[1m173s\u001b[0m 71ms/step - accuracy: 0.8090 - loss: 0.6186 - val_accuracy: 0.9597 - val_loss: 0.1374\n",
            "Epoch 3/4\n",
            "\u001b[1m2444/2444\u001b[0m \u001b[32m━━━━━━━━━━━━━━━━━━━━\u001b[0m\u001b[37m\u001b[0m \u001b[1m173s\u001b[0m 71ms/step - accuracy: 0.8627 - loss: 0.4458 - val_accuracy: 0.9641 - val_loss: 0.1137\n",
            "Epoch 4/4\n",
            "\u001b[1m2444/2444\u001b[0m \u001b[32m━━━━━━━━━━━━━━━━━━━━\u001b[0m\u001b[37m\u001b[0m \u001b[1m166s\u001b[0m 68ms/step - accuracy: 0.8914 - loss: 0.3540 - val_accuracy: 0.9686 - val_loss: 0.0999\n"
          ]
        }
      ]
    },
    {
      "cell_type": "code",
      "source": [
        "model.evaluate(test_generator)\n",
        "model.save(\"devanagari_cnn_model.h5\")"
      ],
      "metadata": {
        "colab": {
          "base_uri": "https://localhost:8080/"
        },
        "id": "6vkAKEAOL8UY",
        "outputId": "efc303e5-0c72-4ee6-e46b-653c1844deda"
      },
      "execution_count": 20,
      "outputs": [
        {
          "output_type": "stream",
          "name": "stdout",
          "text": [
            "\u001b[1m432/432\u001b[0m \u001b[32m━━━━━━━━━━━━━━━━━━━━\u001b[0m\u001b[37m\u001b[0m \u001b[1m10s\u001b[0m 23ms/step - accuracy: 0.9701 - loss: 0.0951\n"
          ]
        },
        {
          "output_type": "stream",
          "name": "stderr",
          "text": [
            "WARNING:absl:You are saving your model as an HDF5 file via `model.save()` or `keras.saving.save_model(model)`. This file format is considered legacy. We recommend using instead the native Keras format, e.g. `model.save('my_model.keras')` or `keras.saving.save_model(model, 'my_model.keras')`. \n"
          ]
        }
      ]
    }
  ]
}